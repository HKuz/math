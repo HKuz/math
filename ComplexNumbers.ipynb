{
 "cells": [
  {
   "cell_type": "code",
   "execution_count": 1,
   "metadata": {},
   "outputs": [],
   "source": [
    "import math\n",
    "\n",
    "import numpy as np\n",
    "import matplotlib.pyplot as plt\n",
    "%matplotlib inline"
   ]
  },
  {
   "cell_type": "markdown",
   "metadata": {},
   "source": [
    "# Complex Numbers\n",
    "\n",
    "Can write any complex number $z = a + bi$ in the polar form (where $r = \\vert z \\vert$, or $\\sqrt{a^2 + b^2}$, and $\\theta$ is the argument of $a + bi$).\n",
    "\n",
    "Euler's identity:\n",
    "\n",
    "$$\n",
    "e^{\\pi i} = -1\n",
    "$$\n",
    "\n",
    "Euler's Formula:\n",
    "\n",
    "$$\n",
    "e^{i\\theta} = \\cos(\\theta) + i \\sin(\\theta)\n",
    "$$\n",
    "\n",
    "Which means you can write the exponential of any complex number $a+ bi$ as $e^a e^{bi} = e^a (\\cos(b) + i\\sin(b))$."
   ]
  },
  {
   "cell_type": "markdown",
   "metadata": {},
   "source": [
    "## Trig Identities with Euler's Formula\n",
    "\n",
    "Euler's formula also implies that $e^{-i\\theta} = \\cos(\\theta) - i\\sin(\\theta)$, and when multiplied:\n",
    "\n",
    "$$\n",
    "e^{i\\theta}e^{-i\\theta} = (\\cos(\\theta) + i \\sin(\\theta)) * (\\cos(\\theta) - i\\sin(\\theta)) = \\cos^2(\\theta) + \\sin^2(\\theta) = 1\n",
    "$$\n",
    "\n",
    "The formula can also be used to confirm angle addition identities. Note that when two complex numbers equal each other, that means that the real parts must be equal, and the imaginary parts must be equal. So $a + bi = c + di$ means that $a = c$ and $b = d$.\n",
    "\n",
    "$$\n",
    "e^{i(\\alpha + \\beta)} = e^{i \\alpha} \\dot e^{i \\beta} = \\cos(\\alpha + \\beta) + i \\sin(\\alpha + \\beta)\n",
    "$$\n",
    "\n",
    "Expanding $e^{i \\alpha} \\dot e^{i \\beta}$:\n",
    "$$\n",
    "(\\cos(\\alpha) + i \\sin(\\alpha)) \\dot (\\cos(\\beta) + i \\sin(\\beta))\n",
    "$$\n",
    "$$\n",
    "= [\\cos(\\alpha)\\cos(\\beta) - \\sin(\\alpha)\\sin(\\beta)] + i[\\sin(\\alpha)\\cos(\\beta) + \\sin(\\beta)\\cos(\\alpha)]\n",
    "$$\n",
    "\n",
    "So the real parts are equal and the imaginary parts are equal:\n",
    "\n",
    "$$\n",
    "\\cos(\\alpha + \\beta) = \\cos(\\alpha)\\cos(\\beta) - \\sin(\\alpha)\\sin(\\beta)\n",
    "$$\n",
    "$$\n",
    "\\sin(\\alpha + \\beta) = \\sin(\\alpha)\\cos(\\beta) + \\sin(\\beta)\\cos(\\alpha)\n",
    "$$\n",
    "\n",
    "Euler's formula is useful to divide real and imaginary parts of a number:\n",
    "$$\n",
    "\\cos(\\theta) = \\mathfrak{R} (e^{i\\theta})\n",
    "$$\n",
    "$$\n",
    "\\sin(\\theta) = \\mathfrak{I} (e^{i\\theta})\n",
    "$$"
   ]
  },
  {
   "cell_type": "code",
   "execution_count": null,
   "metadata": {},
   "outputs": [],
   "source": []
  }
 ],
 "metadata": {
  "kernelspec": {
   "display_name": "Python 3",
   "language": "python",
   "name": "python3"
  },
  "language_info": {
   "codemirror_mode": {
    "name": "ipython",
    "version": 3
   },
   "file_extension": ".py",
   "mimetype": "text/x-python",
   "name": "python",
   "nbconvert_exporter": "python",
   "pygments_lexer": "ipython3",
   "version": "3.8.8"
  }
 },
 "nbformat": 4,
 "nbformat_minor": 4
}
