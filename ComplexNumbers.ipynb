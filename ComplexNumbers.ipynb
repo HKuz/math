{
 "cells": [
  {
   "cell_type": "markdown",
   "metadata": {},
   "source": [
    "# Complex Numbers"
   ]
  },
  {
   "cell_type": "code",
   "execution_count": 1,
   "metadata": {},
   "outputs": [],
   "source": [
    "import math\n",
    "\n",
    "import numpy as np\n",
    "import matplotlib.pyplot as plt\n",
    "%matplotlib inline"
   ]
  },
  {
   "cell_type": "markdown",
   "metadata": {},
   "source": [
    "## Fundamentals\n",
    "\n",
    "The topic of complex (or imaginary) numbers introduce the definition of the number $i$ such that $i = \\sqrt{-1}$, or $i^2 = -1$. The complex number plane extends the real number line into two dimensions, where the y-axis is the imaginary number line with a unit of $i$.\n",
    "\n",
    "A complex number $z$ would be written as $a + bi$, where $a$ is the real part and $b$ is the imaginary part. For every complex number $z$, it has a length, or **magnitude**, and a direction (the angle is calculated counterclockwise from the positive side of the real axis). The **magnitude** of $z = a + bi$ is calculated:\n",
    "\n",
    "$$\n",
    "\\vert z \\vert = \\sqrt{a^2 + b^2}\n",
    "$$\n",
    "\n",
    "**Equality** of two complex numbers means that the real parts are equal and the imaginary parts are equal. If $a + bi = c + di$, then $a = c$ and $b = d$.\n",
    "\n",
    "**Adding** two complex numbers is equivalent to adding the real parts then separately the imaginary parts together to get the new summed complex number. This is very similar to adding 2D vectors.\n",
    "\n",
    "$$\n",
    "(a + bi) + (c + di) = (a + c) + (b + d)i\n",
    "$$\n",
    "\n",
    "**Multiplying** complex numbers can be calculated via the distribution property.\n",
    "\n",
    "$$\n",
    "(a + bi) * (c + di) = ac + adi + cbi + bdi^2 = (ac - bd) + (ad + cb)i\n",
    "$$\n",
    "\n",
    "Complex multiplication has the same effect of applying a transformation to the first number that *scales* it by the magnitude and *rotates* it by the angle of the second number. In other words, you can multiply the magnitudes then add the angles of the two factors to get the resulting product. For a complex numbers $z$ with argument $\\alpha$ and $w$ with argument $\\beta$, $z * w = \\vert z \\vert \\vert w \\vert$ and the new angle is $\\alpha + \\beta$.\n",
    "\n",
    "Multiplying by a complex number with a magnitude of 1 has the effect of just rotating the other number by the argument of the first. In the case of $i$, it rotates the other number by $90^{\\circ}$ ($\\frac{\\pi}{2}$ radians) counterclockwise."
   ]
  },
  {
   "cell_type": "code",
   "execution_count": 16,
   "metadata": {},
   "outputs": [
    {
     "data": {
      "text/plain": [
       "Text(0.15, 0.05, '$\\\\theta$')"
      ]
     },
     "execution_count": 16,
     "metadata": {},
     "output_type": "execute_result"
    },
    {
     "data": {
      "image/png": "[encoded data removed]",
      "text/plain": [
       "<Figure size 720x720 with 1 Axes>"
      ]
     },
     "metadata": {
      "needs_background": "light"
     },
     "output_type": "display_data"
    }
   ],
   "source": [
    "# Generate data to draw unit circle\n",
    "x = np.linspace(-1, 1, 75)\n",
    "y = np.sqrt(1 - x**2)\n",
    "ticks = [-2, -1, 0, 1, 2]\n",
    "\n",
    "# Create plot\n",
    "plt.figure(figsize=(10, 10));\n",
    "plt.plot(x, y, c='blue');\n",
    "plt.plot(x, -y, c='blue');\n",
    "plt.xlabel('Real');\n",
    "plt.ylabel('Imaginary');\n",
    "plt.title('Unit Circle in the Complex Plane');\n",
    "plt.xlim([ticks[0], ticks[-1]]);\n",
    "plt.ylim([ticks[0], ticks[-1]]);\n",
    "plt.xticks(ticks)\n",
    "plt.yticks(ticks, [f'{t}$i$' for t in ticks])\n",
    "plt.grid(True);\n",
    "plt.axhline(y=0, lw=2, color='k');\n",
    "plt.axvline(x=0, lw=2, color='k');\n",
    "\n",
    "# Plot line and angle\n",
    "my_x = np.sqrt(2)/2\n",
    "my_y = np.sqrt(2)/2\n",
    "\n",
    "plt.plot([0, my_x], [0, my_y]);\n",
    "plt.text(my_x + 0.1, my_y + 0.1, r'$\\frac{\\sqrt{2}}{2}$, $\\frac{\\sqrt{2}}{2}$');\n",
    "plt.text(0.15, 0.05, r'$\\theta$');"
   ]
  },
  {
   "cell_type": "markdown",
   "metadata": {},
   "source": [
    "# Connection with Trigonometry\n",
    "\n",
    "As shown in the chart above, drawing the unit circle in the complex plane shows the connection to trigonometry. The coordinates can also be written where $\\cos(\\theta)$ is the $x$ (real) value and $\\sin(\\theta)$ is the $y$ (imaginary) value, thus:\n",
    "\n",
    "$$\n",
    "z = \\cos(\\theta) + i \\sin(\\theta)\n",
    "$$\n",
    "\n",
    "More generically, for points that don't lie on the unit circle (magnitude != 1), points can be written as $r(\\cos(\\theta) + i \\sin(\\theta))$ where $r$ is the number's magnitude.\n",
    "\n",
    "A number of trigonometric identities can be derived using the addition and multiplication techniques above. Sticking with points on the unit circle, multiplying two complex numbers has the effect of rotating them by adding their arguments. This leads to the angle addition identities for $\\cos$ and $\\sin$:\n",
    "\n",
    "$$\n",
    "\\cos(\\alpha+\\beta) + i \\sin(\\alpha+\\beta) = (\\cos(\\alpha) + i \\sin(\\alpha)) * (\\cos(\\beta) + i \\sin(\\beta))\n",
    "$$\n",
    "\n",
    "Multiplying out the right side and re-organizing:\n",
    "\n",
    "$$\n",
    "[\\cos(\\alpha)\\cos(\\beta) - \\sin(\\alpha)\\sin(\\beta)] + i [\\sin(\\alpha)\\cos(\\beta) + \\cos(\\alpha)\\sin(\\beta)]\n",
    "$$\n",
    "\n",
    "Setting the real parts equal and the imaginary parts equal:\n",
    "\n",
    "$$\n",
    "\\cos(\\alpha+\\beta) = \\cos(\\alpha)\\cos(\\beta) - \\sin(\\alpha)\\sin(\\beta)\n",
    "$$\n",
    "$$\n",
    "\\sin(\\alpha+\\beta) = \\sin(\\alpha)\\cos(\\beta) + \\cos(\\alpha)\\sin(\\beta)\n",
    "$$"
   ]
  },
  {
   "cell_type": "markdown",
   "metadata": {},
   "source": [
    "## Polar Coordinates\n",
    "\n",
    "Polar coordinates are written in the form $(r, \\theta)$ where $r$ is the magnitude ($\\vert z \\vert$) and $\\theta$ is the argument of a complex number $z$. It's possible to write any complex number in either its cartesian form ($z = a + bi$) or its polar form ($z = (r, \\theta)$). Converting between the two forms uses the following formulas:\n",
    "\n",
    "**Polar to Cartesian:**\n",
    "\n",
    "$$\n",
    "a = r \\cos(\\theta)\n",
    "$$\n",
    "$$\n",
    "b = r \\sin(\\theta)\n",
    "$$\n",
    "\n",
    "**Cartesian to Polar:**\n",
    "\n",
    "$$\n",
    "r = \\sqrt{a^2 + b^2}\n",
    "$$\n",
    "\n",
    "$$\n",
    "\\theta = \\arctan(\\frac{b}{a})\n",
    "$$"
   ]
  },
  {
   "cell_type": "markdown",
   "metadata": {},
   "source": [
    "## Euler's Identity and Formula\n",
    "\n",
    "At its root, exponentiation is a function that transforms addition in the domain into multiplication in the range, such that $f(a+b) = f(a)f(b)$. For example, take $f(x) = 2^x$, so $f(3) = 2^3$ and $f(4) = 2^4$. Using basic rules of exponentiation, $2^3*2^4 = (2*2*2)*(2*2*2*2) = 2^7 = 2^{3+4}$, so $f(3+4) = f(3)f(4)$.\n",
    "\n",
    "Of course, exponentiation is generally taught as repeated multiplication, but that idea breaks down when exponents aren't integers, and is especially confusing when exponents are irrational or complex numbers. What does it mean to raise a number to the $i\\pi$ power? This is where the more generic idea of addition to multiplication helps.\n",
    "\n",
    "(Side note: recall in the trigonometry section that adding the angles for two complex numbers (magnitude of 1) had the same effect as multiplying the two numbers: $\\text{cis}(\\alpha + \\beta) = \\text{cis}(\\alpha)\\text{cis}(\\beta)$ (where $\\text{cis}(\\theta)$ is the shorthand form of $\\cos(\\theta) + i \\sin(\\theta)$).)\n",
    "\n",
    "A definition of exponentiation for $e$ that goes beyond thinking of $e^x$ as repeated multiplication is the following series. Note that plugging in $x = 1$ in the series results in $e$:\n",
    "\n",
    "$$\n",
    "\\text{exp}(x) = 1 + x + \\frac{x^2}{2!} + \\frac{x^3}{3!} + \\cdots + \\frac{x^n}{n!}\n",
    "$$\n",
    "\n",
    "The series also has the property that $\\text{exp}(a+b) = \\text{exp}(a)\\text{exp}(b)$.\n",
    "\n",
    "Euler's identity:\n",
    "\n",
    "$$\n",
    "e^{\\pi i} = -1\n",
    "$$\n",
    "\n",
    "Euler's Formula:\n",
    "\n",
    "$$\n",
    "e^{i\\theta} = \\cos(\\theta) + i \\sin(\\theta)\n",
    "$$\n",
    "\n",
    "Which means you can write the exponential of any complex number $a+ bi$ as $e^a e^{bi} = e^a (\\cos(b) + i\\sin(b))$."
   ]
  },
  {
   "cell_type": "markdown",
   "metadata": {},
   "source": [
    "## Revisiting Trigonometry Identities with Euler's Formula\n",
    "\n",
    "Euler's formula also implies that $e^{-i\\theta} = \\cos(\\theta) - i\\sin(\\theta)$, and when multiplied:\n",
    "\n",
    "$$\n",
    "e^{i\\theta}e^{-i\\theta} = (\\cos(\\theta) + i \\sin(\\theta)) * (\\cos(\\theta) - i\\sin(\\theta)) = \\cos^2(\\theta) + \\sin^2(\\theta) = 1\n",
    "$$\n",
    "\n",
    "The formula can also be used to confirm angle addition identities. Note that when two complex numbers equal each other, that means that the real parts must be equal, and the imaginary parts must be equal. So $a + bi = c + di$ means that $a = c$ and $b = d$.\n",
    "\n",
    "$$\n",
    "e^{i(\\alpha + \\beta)} = e^{i \\alpha} \\dot e^{i \\beta} = \\cos(\\alpha + \\beta) + i \\sin(\\alpha + \\beta)\n",
    "$$\n",
    "\n",
    "Expanding $e^{i \\alpha} \\dot e^{i \\beta}$:\n",
    "$$\n",
    "(\\cos(\\alpha) + i \\sin(\\alpha)) \\dot (\\cos(\\beta) + i \\sin(\\beta))\n",
    "$$\n",
    "$$\n",
    "= [\\cos(\\alpha)\\cos(\\beta) - \\sin(\\alpha)\\sin(\\beta)] + i[\\sin(\\alpha)\\cos(\\beta) + \\sin(\\beta)\\cos(\\alpha)]\n",
    "$$\n",
    "\n",
    "So the real parts are equal and the imaginary parts are equal:\n",
    "\n",
    "$$\n",
    "\\cos(\\alpha + \\beta) = \\cos(\\alpha)\\cos(\\beta) - \\sin(\\alpha)\\sin(\\beta)\n",
    "$$\n",
    "$$\n",
    "\\sin(\\alpha + \\beta) = \\sin(\\alpha)\\cos(\\beta) + \\sin(\\beta)\\cos(\\alpha)\n",
    "$$\n",
    "\n",
    "Euler's formula is useful to divide real and imaginary parts of a number:\n",
    "$$\n",
    "\\cos(\\theta) = \\mathfrak{R} (e^{i\\theta})\n",
    "$$\n",
    "$$\n",
    "\\sin(\\theta) = \\mathfrak{I} (e^{i\\theta})\n",
    "$$"
   ]
  },
  {
   "cell_type": "code",
   "execution_count": null,
   "metadata": {},
   "outputs": [],
   "source": []
  }
 ],
 "metadata": {
  "kernelspec": {
   "display_name": "Python 3",
   "language": "python",
   "name": "python3"
  },
  "language_info": {
   "codemirror_mode": {
    "name": "ipython",
    "version": 3
   },
   "file_extension": ".py",
   "mimetype": "text/x-python",
   "name": "python",
   "nbconvert_exporter": "python",
   "pygments_lexer": "ipython3",
   "version": "3.8.8"
  }
 },
 "nbformat": 4,
 "nbformat_minor": 4
}
